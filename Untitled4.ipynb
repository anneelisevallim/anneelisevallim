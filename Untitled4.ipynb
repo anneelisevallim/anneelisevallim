{
  "nbformat": 4,
  "nbformat_minor": 0,
  "metadata": {
    "colab": {
      "provenance": [],
      "authorship_tag": "ABX9TyO1POvB/b+rzcMvWDo0hUOX",
      "include_colab_link": true
    },
    "kernelspec": {
      "name": "python3",
      "display_name": "Python 3"
    },
    "language_info": {
      "name": "python"
    }
  },
  "cells": [
    {
      "cell_type": "markdown",
      "metadata": {
        "id": "view-in-github",
        "colab_type": "text"
      },
      "source": [
        "<a href=\"https://colab.research.google.com/github/anneelisevallim/anneelisevallim/blob/main/Untitled4.ipynb\" target=\"_parent\"><img src=\"https://colab.research.google.com/assets/colab-badge.svg\" alt=\"Open In Colab\"/></a>"
      ]
    },
    {
      "cell_type": "code",
      "execution_count": null,
      "metadata": {
        "id": "IQsUf72CkJOZ"
      },
      "outputs": [],
      "source": [
        "alunos_presentes = [\"Anne\", \"Aranha\", \"Mafra\", \"Guilherme\", \"Gustavo\"]\n",
        "idades = [14,14,16,15,23]\n"
      ]
    },
    {
      "cell_type": "code",
      "source": [],
      "metadata": {
        "id": "nQEoZGNOpSjE"
      },
      "execution_count": null,
      "outputs": []
    },
    {
      "cell_type": "code",
      "source": [
        "alunos_presentes[3] = \"Gui\"\n",
        "\n",
        "\n",
        "alunos_presentes[2] = \"Arthur\"\n",
        "\n",
        "alunos_presentes.append(\"Gabriel\")\n",
        "print(alunos_presentes)\n",
        "aluno_removido = alunos_presentes.pop()\n",
        "aluno_removido\n",
        "#alunos_presentes.remove(\"Gabriel\")\n",
        "#nome2 = \"Arthur Aranha\"\n",
        "#nome2[2]\n",
        "\n",
        "alunos_presentes.sort()\n",
        "print(alunos_presentes)"
      ],
      "metadata": {
        "colab": {
          "base_uri": "https://localhost:8080/"
        },
        "id": "ECyq2nrfk_zU",
        "outputId": "fe23730b-7193-46dd-d18f-8126f03e7d74"
      },
      "execution_count": null,
      "outputs": [
        {
          "output_type": "stream",
          "name": "stdout",
          "text": [
            "['Anne', 'Aranha', 'Arthur', 'Gui', 'Gustavo', 'Gabriel']\n",
            "['Anne', 'Aranha', 'Arthur', 'Gui', 'Gustavo']\n"
          ]
        }
      ]
    },
    {
      "cell_type": "code",
      "source": [
        "idades.sort()\n",
        "print(idades)"
      ],
      "metadata": {
        "colab": {
          "base_uri": "https://localhost:8080/"
        },
        "id": "vdW6wgQeprV3",
        "outputId": "cc47185b-eafe-4e47-b6d9-c52ef37927d3"
      },
      "execution_count": null,
      "outputs": [
        {
          "output_type": "stream",
          "name": "stdout",
          "text": [
            "[14, 14, 15, 16, 23]\n"
          ]
        }
      ]
    },
    {
      "cell_type": "code",
      "source": [
        "print(min(idades))\n",
        "print(max(idades))"
      ],
      "metadata": {
        "colab": {
          "base_uri": "https://localhost:8080/"
        },
        "id": "Hul3BPMzqVyg",
        "outputId": "d5037595-7cf7-4eb8-9ed8-2c1c597efd1b"
      },
      "execution_count": null,
      "outputs": [
        {
          "output_type": "stream",
          "name": "stdout",
          "text": [
            "14\n",
            "23\n"
          ]
        }
      ]
    },
    {
      "cell_type": "code",
      "source": [
        "print(min(alunos_presentes))\n",
        "print(max(alunos_presentes))"
      ],
      "metadata": {
        "colab": {
          "base_uri": "https://localhost:8080/"
        },
        "id": "TZGZJXjOqg3l",
        "outputId": "638e3b31-c8e5-4172-d03c-5f82b0020497"
      },
      "execution_count": null,
      "outputs": [
        {
          "output_type": "stream",
          "name": "stdout",
          "text": [
            "Anne\n",
            "Gustavo\n"
          ]
        }
      ]
    },
    {
      "cell_type": "code",
      "source": [
        "matriz = [idades, alunos_presentes]\n",
        "\n",
        "matriz"
      ],
      "metadata": {
        "id": "N0m1JD_9r-k-"
      },
      "execution_count": null,
      "outputs": []
    },
    {
      "cell_type": "code",
      "source": [
        "from PIL import Image\n",
        "import numpy as np\n",
        "\n",
        "imagem = Image.open('./Harry Potter, Brasão de Hogwarts.jpg')\n",
        "imagem_matriz = np.array(imagem)\n",
        "\n",
        "print(\"matriz da imagem\")\n",
        "print(imagem_matriz)"
      ],
      "metadata": {
        "colab": {
          "base_uri": "https://localhost:8080/"
        },
        "id": "FPqUEasTtYh2",
        "outputId": "9c861aa9-d6a0-4603-c89c-15a170ae0326"
      },
      "execution_count": null,
      "outputs": [
        {
          "output_type": "stream",
          "name": "stdout",
          "text": [
            "matriz da imagem\n",
            "[[[0 0 0]\n",
            "  [0 0 0]\n",
            "  [0 0 0]\n",
            "  ...\n",
            "  [0 0 0]\n",
            "  [0 0 0]\n",
            "  [0 0 0]]\n",
            "\n",
            " [[0 0 0]\n",
            "  [0 0 0]\n",
            "  [0 0 0]\n",
            "  ...\n",
            "  [0 0 0]\n",
            "  [0 0 0]\n",
            "  [0 0 0]]\n",
            "\n",
            " [[0 0 0]\n",
            "  [0 0 0]\n",
            "  [0 0 0]\n",
            "  ...\n",
            "  [0 0 0]\n",
            "  [0 0 0]\n",
            "  [0 0 0]]\n",
            "\n",
            " ...\n",
            "\n",
            " [[0 0 0]\n",
            "  [0 0 0]\n",
            "  [0 0 0]\n",
            "  ...\n",
            "  [0 0 0]\n",
            "  [0 0 0]\n",
            "  [0 0 0]]\n",
            "\n",
            " [[0 0 0]\n",
            "  [0 0 0]\n",
            "  [0 0 0]\n",
            "  ...\n",
            "  [0 0 0]\n",
            "  [0 0 0]\n",
            "  [0 0 0]]\n",
            "\n",
            " [[0 0 0]\n",
            "  [0 0 0]\n",
            "  [0 0 0]\n",
            "  ...\n",
            "  [0 0 0]\n",
            "  [0 0 0]\n",
            "  [0 0 0]]]\n"
          ]
        }
      ]
    },
    {
      "cell_type": "code",
      "source": [
        "import matplotlib.pyplot as plt\n",
        "import numpy as np\n",
        "\n",
        "\n",
        "bandeira = np.array([\n",
        "  [1, 1, 1, 0, 0, 0, 2, 2, 2],\n",
        "  [1, 1, 1, 0, 0, 0, 2, 2, 2],\n",
        "  [1, 1, 1, 0, 0, 0, 2, 2, 2],\n",
        "  [1, 1, 1, 0, 0, 0, 2, 2, 2],\n",
        "  [1, 1, 1, 0, 0, 0, 2, 2, 2],\n",
        "  [1, 1, 1, 0, 0, 0, 2, 2, 2],\n",
        "  [1, 1, 1, 0, 0, 0, 2, 2, 2]\n",
        "])\n",
        "\n",
        "from matplotlib.colors import ListedColormap\n",
        "cmap = ListedColormap([\"white\", \"green\", \"red\"])\n",
        "\n",
        "plt.figure(figsize=(5, 5))\n",
        "plt.imshow(bandeira, cmap=cmap)\n",
        "plt.axis('off')\n",
        "plt.show()"
      ],
      "metadata": {
        "colab": {
          "base_uri": "https://localhost:8080/",
          "height": 338
        },
        "id": "5cnsMGojvVX-",
        "outputId": "d95025ff-a445-480b-e1db-57ab8f9c3ca1"
      },
      "execution_count": null,
      "outputs": [
        {
          "output_type": "display_data",
          "data": {
            "text/plain": [
              "<Figure size 500x500 with 1 Axes>"
            ],
            "image/png": "[encoded data removed]"
          },
          "metadata": {}
        }
      ]
    }
  ]
}